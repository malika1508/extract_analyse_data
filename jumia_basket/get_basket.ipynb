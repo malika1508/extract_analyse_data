{
 "cells": [
  {
   "cell_type": "code",
   "execution_count": 3,
   "metadata": {},
   "outputs": [],
   "source": [
    "from bs4 import BeautifulSoup as soup\n",
    "import pandas as pd\n",
    "import numpy as np \n",
    "from urllib.request import urlopen as uopen\n",
    "from urllib.request import Request as request\n",
    "from functools import reduce\n",
    "import matplotlib.pyplot as plt\n",
    "from sklearn.model_selection import train_test_split\n",
    "from sklearn.linear_model import LinearRegression\n",
    "# from sklearn.matrix \n"
   ]
  },
  {
   "cell_type": "markdown",
   "metadata": {},
   "source": [
    "---\n",
    "---\n",
    "# some initialisations :\n",
    "---\n",
    "---"
   ]
  },
  {
   "cell_type": "code",
   "execution_count": 4,
   "metadata": {},
   "outputs": [],
   "source": [
    "colors = ['Blanc', 'Noir', 'Or', 'Rose',\n",
    "       'Mesh Rose', 'Black', 'Argent', 'Beige',\n",
    "       'Kaki','Vert','Bleu', 'Jaune',\n",
    "       'Rouge', 'Bleu','Gris', 'Bleu Nuit', 'Bleu Pastel', 'Camel',\n",
    "       'Gold', 'Grenat','Gris Clair','Mauve', 'Multicolore','Bronze',\n",
    "       'Noir/N', 'Orange','PINK', 'Rose Clair', ' Rose clair',\n",
    "       'Violet',' Silver', 'Blanche','Marron','Verte']\n",
    "colors = list(map(lambda x: x.lower().strip(), colors))\n",
    "colors = np.unique(colors) \n",
    "\n",
    "headers = {'User-Agent': 'Mozilla/5.0 (Windows NT 6.1) AppleWebKit/537.36 (KHTML, like Gecko) Chrome/41.0.2228.0 '}\n",
    "df = pd.DataFrame()\n"
   ]
  },
  {
   "cell_type": "markdown",
   "metadata": {},
   "source": [
    "---\n",
    "---\n",
    "# extarction des donnees:\n",
    "---\n",
    "---"
   ]
  },
  {
   "cell_type": "code",
   "execution_count": 5,
   "metadata": {},
   "outputs": [],
   "source": [
    "def extract(articles, df, gender):\n",
    "    for article in articles:\n",
    "        # extract\n",
    "        full_name = article.find_all(\"h3\", {\"class\": \"name\"})[0].text.lower()\n",
    "        price = article.find_all(\"div\", {\"class\": \"prc\"})[0].text\n",
    "        reduction = article.find_all(\"div\", {\"class\": \"tag _dsct _sm\"})\n",
    "        stars = article.find_all(\"div\", {\"class\": \"stars _s\"})\n",
    "\n",
    "        # reduction / stars TRT\n",
    "        reduction = reduction[0].text[:-1] if reduction else 0\n",
    "        stars = stars[0].text.split()[0] if stars else 0\n",
    "\n",
    "        a= {\n",
    "        \"gender\" : gender,\n",
    "        \"description\" : full_name,\n",
    "        \"price\" : price,\n",
    "        \"stars\" : float(stars)/10,\n",
    "        \"reduction\": float(reduction)/100\n",
    "        }\n",
    "        df = df.append(a, ignore_index=True)\n",
    "\n",
    "    return df"
   ]
  },
  {
   "cell_type": "code",
   "execution_count": null,
   "metadata": {},
   "outputs": [],
   "source": [
    "\n",
    "for j in range(2):\n",
    "    gender = \"homme\" if j  else \"femme\"\n",
    "    for i in range(1, 8):\n",
    "        url = 'https://www.jumia.dz/catalog/?q=basket+'+gender+'&page='+str(i)+'#catalog-listing'\n",
    "        print(url)\n",
    "        req = request(url=url, headers=headers) \n",
    "        client = uopen(req)\n",
    "        page_html = client.read()\n",
    "        client.close()\n",
    "        parsed = soup(page_html, \"html.parser\") \n",
    "        articles = parsed.find_all(\"article\",{ 'class' :\"prd _fb col c-prd\"})\n",
    "        df = extract(articles, df, gender)"
   ]
  },
  {
   "cell_type": "code",
   "execution_count": 5,
   "metadata": {},
   "outputs": [],
   "source": [
    "df.to_csv(\"data.csv\", index = False)"
   ]
  },
  {
   "cell_type": "markdown",
   "metadata": {},
   "source": [
    "---\n",
    "---\n",
    "#    pretraitement des donnees:\n",
    "---\n",
    "---"
   ]
  },
  {
   "cell_type": "code",
   "execution_count": 6,
   "metadata": {},
   "outputs": [],
   "source": [
    "def brand_trt(full_name):\n",
    "    if \"bask\" in full_name:\n",
    "        return full_name[:full_name.index(\"bask\")].strip()\n",
    "    elif \" chaus\" in full_name:\n",
    "        return full_name[:full_name.index(\" chaus\")].strip()\n",
    "    else :\n",
    "        return \"None\"\n",
    "\n",
    "def brand_trt2(x):\n",
    "\n",
    "    if x == \"noennamenull\" or x ==\"fashion\" or x ==\"None\":\n",
    "        return \"no name\"\n",
    "    if x == \"skechers\":\n",
    "        return \"sketchers\"\n",
    "    if x == \"asics performance\":\n",
    "        return 'asics'\n",
    "    if x == \"hummel ensemble homme - core\" or x == 'hummel core':\n",
    "        return \"hummel\"\n",
    "    else :\n",
    "        return x"
   ]
  },
  {
   "cell_type": "code",
   "execution_count": 7,
   "metadata": {},
   "outputs": [],
   "source": [
    "df[\"brand\"] = df[\"description\"].apply(brand_trt)\n",
    "df = df[df[\"brand\"] != \"\"]\n",
    "df[\"new_brand\"] = df[\"brand\"].apply(brand_trt2)\n",
    "\n",
    "del df[\"brand\"]"
   ]
  },
  {
   "cell_type": "code",
   "execution_count": 8,
   "metadata": {},
   "outputs": [],
   "source": [
    "def price_trt(price):\n",
    "    price = price.replace(\",\", \"\").replace(\"DA\", \"\")\n",
    "    if \"-\" in price:\n",
    "        price = price.split(\"-\")\n",
    "        price = (float(price[0])+ float(price[1]))/2\n",
    "    return float(price) /1000"
   ]
  },
  {
   "cell_type": "code",
   "execution_count": 9,
   "metadata": {},
   "outputs": [],
   "source": [
    "df[\"avg_price\"] = df[\"price\"].apply(price_trt)\n",
    "del df[\"price\"]"
   ]
  },
  {
   "cell_type": "code",
   "execution_count": 10,
   "metadata": {},
   "outputs": [],
   "source": [
    "def color_trt(full_name):\n",
    "    color  = \"None\"\n",
    "    list_color = list(filter(lambda x: x in colors, full_name.split()))\n",
    "    if list_color:\n",
    "        color = reduce(lambda x, a: a+ \" \"+ x, list_color)\n",
    "    return color"
   ]
  },
  {
   "cell_type": "code",
   "execution_count": 11,
   "metadata": {},
   "outputs": [],
   "source": [
    "df[\"color\"] = df[\"description\"].apply(color_trt)"
   ]
  },
  {
   "cell_type": "code",
   "execution_count": 12,
   "metadata": {},
   "outputs": [],
   "source": [
    "def uni_trt(color):\n",
    "    return 1 if len(color.split()) == 1 else 0\n",
    "        \n",
    "def multi_trt(color):\n",
    "    return 1 if len(color.split()) != 1 else 0"
   ]
  },
  {
   "cell_type": "code",
   "execution_count": 1,
   "metadata": {},
   "outputs": [
    {
     "ename": "NameError",
     "evalue": "name 'df' is not defined",
     "output_type": "error",
     "traceback": [
      "\u001b[1;31m---------------------------------------------------------------------------\u001b[0m",
      "\u001b[1;31mNameError\u001b[0m                                 Traceback (most recent call last)",
      "\u001b[1;32mC:\\Users\\HPPAVI~1\\AppData\\Local\\Temp/ipykernel_13620/882815273.py\u001b[0m in \u001b[0;36m<module>\u001b[1;34m\u001b[0m\n\u001b[1;32m----> 1\u001b[1;33m \u001b[0mdf\u001b[0m\u001b[1;33m[\u001b[0m\u001b[1;34m\"uni\"\u001b[0m\u001b[1;33m]\u001b[0m \u001b[1;33m=\u001b[0m \u001b[0mdf\u001b[0m\u001b[1;33m[\u001b[0m\u001b[1;34m\"color\"\u001b[0m\u001b[1;33m]\u001b[0m\u001b[1;33m.\u001b[0m\u001b[0mapply\u001b[0m\u001b[1;33m(\u001b[0m\u001b[0muni_trt\u001b[0m\u001b[1;33m)\u001b[0m\u001b[1;33m\u001b[0m\u001b[1;33m\u001b[0m\u001b[0m\n\u001b[0m\u001b[0;32m      2\u001b[0m \u001b[1;31m# df[\"multi\"] = df[\"color\"].apply(multi_trt)\u001b[0m\u001b[1;33m\u001b[0m\u001b[1;33m\u001b[0m\u001b[1;33m\u001b[0m\u001b[0m\n",
      "\u001b[1;31mNameError\u001b[0m: name 'df' is not defined"
     ]
    }
   ],
   "source": [
    "df[\"uni\"] = df[\"color\"].apply(uni_trt)\n",
    "# df[\"multi\"] = df[\"color\"].apply(multi_trt)"
   ]
  },
  {
   "cell_type": "code",
   "execution_count": 14,
   "metadata": {},
   "outputs": [],
   "source": [
    "df.to_csv(\"data_trt.csv\", index = False)"
   ]
  },
  {
   "cell_type": "markdown",
   "metadata": {},
   "source": [
    "---\n",
    "---\n",
    "# Analyse des donnees:\n",
    "---\n",
    "---\n"
   ]
  },
  {
   "cell_type": "code",
   "execution_count": 17,
   "metadata": {},
   "outputs": [
    {
     "data": {
      "text/plain": [
       "<BarContainer object of 58 artists>"
      ]
     },
     "execution_count": 17,
     "metadata": {},
     "output_type": "execute_result"
    },
    {
     "data": {
      "image/png": "[encoded data removed]",
      "text/plain": [
       "<Figure size 648x648 with 1 Axes>"
      ]
     },
     "metadata": {
      "needs_background": "light"
     },
     "output_type": "display_data"
    }
   ],
   "source": [
    "# number of shoes in each brand\n",
    "brands = list(df[\"new_brand\"].value_counts().index)\n",
    "values = df[\"new_brand\"].value_counts().values\n",
    "plt.figure(figsize=(9, 9))\n",
    "plt.barh(brands, values)"
   ]
  },
  {
   "cell_type": "code",
   "execution_count": 18,
   "metadata": {},
   "outputs": [
    {
     "data": {
      "text/plain": [
       "<BarContainer object of 58 artists>"
      ]
     },
     "execution_count": 18,
     "metadata": {},
     "output_type": "execute_result"
    },
    {
     "data": {
      "image/png": "[encoded data removed]",
      "text/plain": [
       "<Figure size 648x648 with 1 Axes>"
      ]
     },
     "metadata": {
      "needs_background": "light"
     },
     "output_type": "display_data"
    }
   ],
   "source": [
    "# Avrage price for each brand\n",
    "brands = np.unique(df[\"new_brand\"].values)\n",
    "avg_prices = []\n",
    "for b in brands:\n",
    "    x = df[df[\"new_brand\"]== b][\"avg_price\"].values.mean()\n",
    "    avg_prices.append(x)\n",
    "plt.figure(figsize=(9, 9))\n",
    "plt.barh(brands, avg_prices)"
   ]
  },
  {
   "cell_type": "markdown",
   "metadata": {},
   "source": [
    "***\n",
    "# convert categorical data to numerical data:\n",
    "***"
   ]
  },
  {
   "cell_type": "code",
   "execution_count": 19,
   "metadata": {},
   "outputs": [],
   "source": [
    "new_df = df[ [\"gender\",\"reduction\"\t,\"stars\",\"new_brand\",\"avg_price\",\"uni\"] ]"
   ]
  },
  {
   "cell_type": "code",
   "execution_count": 20,
   "metadata": {},
   "outputs": [],
   "source": [
    "new_df = pd.get_dummies(new_df)"
   ]
  },
  {
   "cell_type": "code",
   "execution_count": 21,
   "metadata": {},
   "outputs": [
    {
     "data": {
      "text/html": [
       "<div>\n",
       "<style scoped>\n",
       "    .dataframe tbody tr th:only-of-type {\n",
       "        vertical-align: middle;\n",
       "    }\n",
       "\n",
       "    .dataframe tbody tr th {\n",
       "        vertical-align: top;\n",
       "    }\n",
       "\n",
       "    .dataframe thead th {\n",
       "        text-align: right;\n",
       "    }\n",
       "</style>\n",
       "<table border=\"1\" class=\"dataframe\">\n",
       "  <thead>\n",
       "    <tr style=\"text-align: right;\">\n",
       "      <th></th>\n",
       "      <th>reduction</th>\n",
       "      <th>stars</th>\n",
       "      <th>avg_price</th>\n",
       "      <th>uni</th>\n",
       "      <th>gender_femme</th>\n",
       "      <th>gender_homme</th>\n",
       "      <th>new_brand_adidas</th>\n",
       "      <th>new_brand_adidas chaussures</th>\n",
       "      <th>new_brand_asics</th>\n",
       "      <th>new_brand_b3d shoes</th>\n",
       "      <th>...</th>\n",
       "      <th>new_brand_stradivarius</th>\n",
       "      <th>new_brand_tongfei</th>\n",
       "      <th>new_brand_tony p</th>\n",
       "      <th>new_brand_tony-p</th>\n",
       "      <th>new_brand_tonypei</th>\n",
       "      <th>new_brand_under armour</th>\n",
       "      <th>new_brand_us polo</th>\n",
       "      <th>new_brand_us polo association</th>\n",
       "      <th>new_brand_yl</th>\n",
       "      <th>new_brand_zeta</th>\n",
       "    </tr>\n",
       "  </thead>\n",
       "  <tbody>\n",
       "    <tr>\n",
       "      <th>1</th>\n",
       "      <td>0.28</td>\n",
       "      <td>0.00</td>\n",
       "      <td>4.200</td>\n",
       "      <td>1</td>\n",
       "      <td>1</td>\n",
       "      <td>0</td>\n",
       "      <td>0</td>\n",
       "      <td>0</td>\n",
       "      <td>0</td>\n",
       "      <td>0</td>\n",
       "      <td>...</td>\n",
       "      <td>0</td>\n",
       "      <td>0</td>\n",
       "      <td>0</td>\n",
       "      <td>0</td>\n",
       "      <td>0</td>\n",
       "      <td>0</td>\n",
       "      <td>0</td>\n",
       "      <td>0</td>\n",
       "      <td>0</td>\n",
       "      <td>0</td>\n",
       "    </tr>\n",
       "    <tr>\n",
       "      <th>2</th>\n",
       "      <td>0.47</td>\n",
       "      <td>0.36</td>\n",
       "      <td>1.599</td>\n",
       "      <td>1</td>\n",
       "      <td>1</td>\n",
       "      <td>0</td>\n",
       "      <td>0</td>\n",
       "      <td>0</td>\n",
       "      <td>0</td>\n",
       "      <td>0</td>\n",
       "      <td>...</td>\n",
       "      <td>0</td>\n",
       "      <td>0</td>\n",
       "      <td>0</td>\n",
       "      <td>0</td>\n",
       "      <td>0</td>\n",
       "      <td>0</td>\n",
       "      <td>0</td>\n",
       "      <td>0</td>\n",
       "      <td>0</td>\n",
       "      <td>0</td>\n",
       "    </tr>\n",
       "    <tr>\n",
       "      <th>3</th>\n",
       "      <td>0.50</td>\n",
       "      <td>0.50</td>\n",
       "      <td>2.990</td>\n",
       "      <td>1</td>\n",
       "      <td>1</td>\n",
       "      <td>0</td>\n",
       "      <td>0</td>\n",
       "      <td>0</td>\n",
       "      <td>0</td>\n",
       "      <td>0</td>\n",
       "      <td>...</td>\n",
       "      <td>0</td>\n",
       "      <td>0</td>\n",
       "      <td>0</td>\n",
       "      <td>0</td>\n",
       "      <td>0</td>\n",
       "      <td>0</td>\n",
       "      <td>0</td>\n",
       "      <td>0</td>\n",
       "      <td>0</td>\n",
       "      <td>0</td>\n",
       "    </tr>\n",
       "    <tr>\n",
       "      <th>6</th>\n",
       "      <td>0.41</td>\n",
       "      <td>0.00</td>\n",
       "      <td>3.500</td>\n",
       "      <td>1</td>\n",
       "      <td>1</td>\n",
       "      <td>0</td>\n",
       "      <td>0</td>\n",
       "      <td>0</td>\n",
       "      <td>0</td>\n",
       "      <td>0</td>\n",
       "      <td>...</td>\n",
       "      <td>0</td>\n",
       "      <td>0</td>\n",
       "      <td>0</td>\n",
       "      <td>0</td>\n",
       "      <td>0</td>\n",
       "      <td>0</td>\n",
       "      <td>0</td>\n",
       "      <td>0</td>\n",
       "      <td>0</td>\n",
       "      <td>0</td>\n",
       "    </tr>\n",
       "    <tr>\n",
       "      <th>7</th>\n",
       "      <td>0.35</td>\n",
       "      <td>0.39</td>\n",
       "      <td>3.200</td>\n",
       "      <td>1</td>\n",
       "      <td>1</td>\n",
       "      <td>0</td>\n",
       "      <td>0</td>\n",
       "      <td>0</td>\n",
       "      <td>0</td>\n",
       "      <td>0</td>\n",
       "      <td>...</td>\n",
       "      <td>0</td>\n",
       "      <td>0</td>\n",
       "      <td>0</td>\n",
       "      <td>0</td>\n",
       "      <td>0</td>\n",
       "      <td>0</td>\n",
       "      <td>0</td>\n",
       "      <td>0</td>\n",
       "      <td>0</td>\n",
       "      <td>0</td>\n",
       "    </tr>\n",
       "    <tr>\n",
       "      <th>...</th>\n",
       "      <td>...</td>\n",
       "      <td>...</td>\n",
       "      <td>...</td>\n",
       "      <td>...</td>\n",
       "      <td>...</td>\n",
       "      <td>...</td>\n",
       "      <td>...</td>\n",
       "      <td>...</td>\n",
       "      <td>...</td>\n",
       "      <td>...</td>\n",
       "      <td>...</td>\n",
       "      <td>...</td>\n",
       "      <td>...</td>\n",
       "      <td>...</td>\n",
       "      <td>...</td>\n",
       "      <td>...</td>\n",
       "      <td>...</td>\n",
       "      <td>...</td>\n",
       "      <td>...</td>\n",
       "      <td>...</td>\n",
       "      <td>...</td>\n",
       "    </tr>\n",
       "    <tr>\n",
       "      <th>555</th>\n",
       "      <td>0.00</td>\n",
       "      <td>0.00</td>\n",
       "      <td>17.900</td>\n",
       "      <td>1</td>\n",
       "      <td>0</td>\n",
       "      <td>1</td>\n",
       "      <td>1</td>\n",
       "      <td>0</td>\n",
       "      <td>0</td>\n",
       "      <td>0</td>\n",
       "      <td>...</td>\n",
       "      <td>0</td>\n",
       "      <td>0</td>\n",
       "      <td>0</td>\n",
       "      <td>0</td>\n",
       "      <td>0</td>\n",
       "      <td>0</td>\n",
       "      <td>0</td>\n",
       "      <td>0</td>\n",
       "      <td>0</td>\n",
       "      <td>0</td>\n",
       "    </tr>\n",
       "    <tr>\n",
       "      <th>556</th>\n",
       "      <td>0.00</td>\n",
       "      <td>0.00</td>\n",
       "      <td>13.500</td>\n",
       "      <td>1</td>\n",
       "      <td>0</td>\n",
       "      <td>1</td>\n",
       "      <td>0</td>\n",
       "      <td>0</td>\n",
       "      <td>0</td>\n",
       "      <td>0</td>\n",
       "      <td>...</td>\n",
       "      <td>0</td>\n",
       "      <td>0</td>\n",
       "      <td>0</td>\n",
       "      <td>0</td>\n",
       "      <td>0</td>\n",
       "      <td>0</td>\n",
       "      <td>0</td>\n",
       "      <td>0</td>\n",
       "      <td>0</td>\n",
       "      <td>0</td>\n",
       "    </tr>\n",
       "    <tr>\n",
       "      <th>557</th>\n",
       "      <td>0.24</td>\n",
       "      <td>0.50</td>\n",
       "      <td>10.570</td>\n",
       "      <td>1</td>\n",
       "      <td>0</td>\n",
       "      <td>1</td>\n",
       "      <td>1</td>\n",
       "      <td>0</td>\n",
       "      <td>0</td>\n",
       "      <td>0</td>\n",
       "      <td>...</td>\n",
       "      <td>0</td>\n",
       "      <td>0</td>\n",
       "      <td>0</td>\n",
       "      <td>0</td>\n",
       "      <td>0</td>\n",
       "      <td>0</td>\n",
       "      <td>0</td>\n",
       "      <td>0</td>\n",
       "      <td>0</td>\n",
       "      <td>0</td>\n",
       "    </tr>\n",
       "    <tr>\n",
       "      <th>558</th>\n",
       "      <td>0.29</td>\n",
       "      <td>0.47</td>\n",
       "      <td>5.500</td>\n",
       "      <td>1</td>\n",
       "      <td>0</td>\n",
       "      <td>1</td>\n",
       "      <td>0</td>\n",
       "      <td>0</td>\n",
       "      <td>0</td>\n",
       "      <td>0</td>\n",
       "      <td>...</td>\n",
       "      <td>0</td>\n",
       "      <td>0</td>\n",
       "      <td>0</td>\n",
       "      <td>0</td>\n",
       "      <td>0</td>\n",
       "      <td>0</td>\n",
       "      <td>0</td>\n",
       "      <td>0</td>\n",
       "      <td>0</td>\n",
       "      <td>0</td>\n",
       "    </tr>\n",
       "    <tr>\n",
       "      <th>559</th>\n",
       "      <td>0.00</td>\n",
       "      <td>0.40</td>\n",
       "      <td>4.500</td>\n",
       "      <td>1</td>\n",
       "      <td>0</td>\n",
       "      <td>1</td>\n",
       "      <td>0</td>\n",
       "      <td>0</td>\n",
       "      <td>0</td>\n",
       "      <td>0</td>\n",
       "      <td>...</td>\n",
       "      <td>0</td>\n",
       "      <td>0</td>\n",
       "      <td>0</td>\n",
       "      <td>0</td>\n",
       "      <td>0</td>\n",
       "      <td>0</td>\n",
       "      <td>0</td>\n",
       "      <td>0</td>\n",
       "      <td>0</td>\n",
       "      <td>0</td>\n",
       "    </tr>\n",
       "  </tbody>\n",
       "</table>\n",
       "<p>494 rows × 64 columns</p>\n",
       "</div>"
      ],
      "text/plain": [
       "     reduction  stars  avg_price  uni  gender_femme  gender_homme  \\\n",
       "1         0.28   0.00      4.200    1             1             0   \n",
       "2         0.47   0.36      1.599    1             1             0   \n",
       "3         0.50   0.50      2.990    1             1             0   \n",
       "6         0.41   0.00      3.500    1             1             0   \n",
       "7         0.35   0.39      3.200    1             1             0   \n",
       "..         ...    ...        ...  ...           ...           ...   \n",
       "555       0.00   0.00     17.900    1             0             1   \n",
       "556       0.00   0.00     13.500    1             0             1   \n",
       "557       0.24   0.50     10.570    1             0             1   \n",
       "558       0.29   0.47      5.500    1             0             1   \n",
       "559       0.00   0.40      4.500    1             0             1   \n",
       "\n",
       "     new_brand_adidas  new_brand_adidas chaussures  new_brand_asics  \\\n",
       "1                   0                            0                0   \n",
       "2                   0                            0                0   \n",
       "3                   0                            0                0   \n",
       "6                   0                            0                0   \n",
       "7                   0                            0                0   \n",
       "..                ...                          ...              ...   \n",
       "555                 1                            0                0   \n",
       "556                 0                            0                0   \n",
       "557                 1                            0                0   \n",
       "558                 0                            0                0   \n",
       "559                 0                            0                0   \n",
       "\n",
       "     new_brand_b3d shoes  ...  new_brand_stradivarius  new_brand_tongfei  \\\n",
       "1                      0  ...                       0                  0   \n",
       "2                      0  ...                       0                  0   \n",
       "3                      0  ...                       0                  0   \n",
       "6                      0  ...                       0                  0   \n",
       "7                      0  ...                       0                  0   \n",
       "..                   ...  ...                     ...                ...   \n",
       "555                    0  ...                       0                  0   \n",
       "556                    0  ...                       0                  0   \n",
       "557                    0  ...                       0                  0   \n",
       "558                    0  ...                       0                  0   \n",
       "559                    0  ...                       0                  0   \n",
       "\n",
       "     new_brand_tony p  new_brand_tony-p  new_brand_tonypei  \\\n",
       "1                   0                 0                  0   \n",
       "2                   0                 0                  0   \n",
       "3                   0                 0                  0   \n",
       "6                   0                 0                  0   \n",
       "7                   0                 0                  0   \n",
       "..                ...               ...                ...   \n",
       "555                 0                 0                  0   \n",
       "556                 0                 0                  0   \n",
       "557                 0                 0                  0   \n",
       "558                 0                 0                  0   \n",
       "559                 0                 0                  0   \n",
       "\n",
       "     new_brand_under armour  new_brand_us polo  new_brand_us polo association  \\\n",
       "1                         0                  0                              0   \n",
       "2                         0                  0                              0   \n",
       "3                         0                  0                              0   \n",
       "6                         0                  0                              0   \n",
       "7                         0                  0                              0   \n",
       "..                      ...                ...                            ...   \n",
       "555                       0                  0                              0   \n",
       "556                       0                  0                              0   \n",
       "557                       0                  0                              0   \n",
       "558                       0                  0                              0   \n",
       "559                       0                  0                              0   \n",
       "\n",
       "     new_brand_yl  new_brand_zeta  \n",
       "1               0               0  \n",
       "2               0               0  \n",
       "3               0               0  \n",
       "6               0               0  \n",
       "7               0               0  \n",
       "..            ...             ...  \n",
       "555             0               0  \n",
       "556             0               0  \n",
       "557             0               0  \n",
       "558             0               0  \n",
       "559             0               0  \n",
       "\n",
       "[494 rows x 64 columns]"
      ]
     },
     "execution_count": 21,
     "metadata": {},
     "output_type": "execute_result"
    }
   ],
   "source": [
    "new_df"
   ]
  },
  {
   "cell_type": "markdown",
   "metadata": {},
   "source": [
    "---\n",
    "---\n",
    "# buid the model:\n",
    "---\n",
    "---"
   ]
  },
  {
   "cell_type": "code",
   "execution_count": 22,
   "metadata": {},
   "outputs": [],
   "source": [
    "y = new_df[\"avg_price\"]\n",
    "X = new_df.drop(\"avg_price\", axis = 1)\n"
   ]
  },
  {
   "cell_type": "code",
   "execution_count": 23,
   "metadata": {},
   "outputs": [],
   "source": [
    "X_train, X_test, y_train, y_test = train_test_split(X, y, test_size=0.33, random_state=42)"
   ]
  },
  {
   "cell_type": "code",
   "execution_count": 24,
   "metadata": {},
   "outputs": [
    {
     "name": "stdout",
     "output_type": "stream",
     "text": [
      "-1.6181453841988893e+23\n"
     ]
    }
   ],
   "source": [
    "multi_reg =  LinearRegression()\n",
    "multi_reg.fit(X_train, y_train)\n",
    "multi_pred = multi_reg.predict(X_test)\n",
    "print(multi_reg.score(X_test, y_test))\n"
   ]
  },
  {
   "cell_type": "code",
   "execution_count": null,
   "metadata": {},
   "outputs": [],
   "source": []
  }
 ],
 "metadata": {
  "interpreter": {
   "hash": "1d38f6d59fbeec453bf977305d2d3f901f99d19781ce46f7f6844578bcfa9bfe"
  },
  "kernelspec": {
   "display_name": "Python 3.7.4 32-bit",
   "name": "python3"
  },
  "language_info": {
   "codemirror_mode": {
    "name": "ipython",
    "version": 3
   },
   "file_extension": ".py",
   "mimetype": "text/x-python",
   "name": "python",
   "nbconvert_exporter": "python",
   "pygments_lexer": "ipython3",
   "version": "3.7.4"
  },
  "orig_nbformat": 4
 },
 "nbformat": 4,
 "nbformat_minor": 2
}
