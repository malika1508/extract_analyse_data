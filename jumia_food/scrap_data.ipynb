{
 "cells": [
  {
   "cell_type": "code",
   "execution_count": null,
   "metadata": {},
   "outputs": [],
   "source": [
    "from selenium import webdriver\n",
    "import time \n",
    "import pandas as pd\n",
    "import numpy as np"
   ]
  },
  {
   "cell_type": "code",
   "execution_count": null,
   "metadata": {},
   "outputs": [],
   "source": [
    "path =\"C:\\Program Files (x86)\\chromedriver.exe\"\n",
    "driver = webdriver.Chrome(path)\n",
    "driver.get(\"https://food.jumia.dz/restaurants\")\n",
    "try:    \n",
    "    driver.find_element_by_class_name(\"popup-close\").click()\n",
    "except:\n",
    "    print(\"hello\")\n",
    "# driver.find_element_by_class_name(\"close-popup.mla\").click()"
   ]
  },
  {
   "cell_type": "code",
   "execution_count": null,
   "metadata": {},
   "outputs": [],
   "source": [
    "name = \"shop_checkout_type[orderMetaData][customerAddress][addressLine1]\" \n",
    "search = driver.find_element_by_name(name)\n",
    "search.send_keys(\"gardern city\")\n",
    "time.sleep(3)\n",
    "driver.find_element_by_class_name(\"geo-option\").click()\n",
    "time.sleep(3)\n",
    "driver.find_element_by_class_name(\"button.mvs.fw.is-success\").click()"
   ]
  },
  {
   "cell_type": "code",
   "execution_count": null,
   "metadata": {},
   "outputs": [],
   "source": [
    "articles = driver.find_elements_by_tag_name(\"article\")\n",
    "data_basic = []"
   ]
  },
  {
   "cell_type": "code",
   "execution_count": null,
   "metadata": {},
   "outputs": [],
   "source": [
    "for i in range(len(articles)):\n",
    "    name_vend = articles[i].find_element_by_class_name(\"name\").text\n",
    "    bottom = articles[i].find_element_by_class_name(\"bottom-info\").text\n",
    "    link = articles[i].find_element_by_tag_name(\"a\").get_attribute(\"href\")\n",
    "    data_basic.append([name_vend, bottom, link])\n",
    "    \n",
    "df = pd.DataFrame(data_basic, columns = [\"name\", \"bottom\", \"link\"])\n",
    "df.to_csv(\"data_basic.csv\", index = False)"
   ]
  },
  {
   "cell_type": "code",
   "execution_count": null,
   "metadata": {},
   "outputs": [],
   "source": [
    "df = pd.DataFrame(columns = [\"name\", \"bottom\", \"link\"])\n",
    "df = pd.read_csv(\"data_basic.csv\")"
   ]
  },
  {
   "cell_type": "code",
   "execution_count": null,
   "metadata": {},
   "outputs": [],
   "source": [
    "data_menu = pd.DataFrame(columns=[\"restaurant\", \"resume\", \"section\", \"product\", \"price\"])"
   ]
  },
  {
   "cell_type": "code",
   "execution_count": null,
   "metadata": {},
   "outputs": [],
   "source": [
    "for rest in range(len(df)):\n",
    "    link = df.iloc[rest][\"link\"][21:]\n",
    "    nom = df.iloc[rest][\"name\"]\n",
    "    bottom = df.iloc[rest][\"bottom\"]\n",
    "    path = \"//a[@href = '\"+link+\"']\"\n",
    "    try :\n",
    "        driver.find_element_by_xpath(path).click()\n",
    "        print(nom)\n",
    "    except:\n",
    "        continue\n",
    "    time.sleep(.1)\n",
    "    category_sections = driver.find_elements_by_xpath(\"//section[@class = 'menu-category-section mtxxl' ]\")\n",
    "    i = 0\n",
    "    for section in category_sections:\n",
    "        x = section.find_element_by_tag_name(\"div\").text\n",
    "        articles = section.find_elements_by_tag_name(\"article\")\n",
    "        for article in articles:\n",
    "            product = driver.find_elements_by_xpath(\"//h3/span\")[i].text\n",
    "            price = driver.find_elements_by_xpath(\"//a[starts-with(@class, 'product-price-anchor')]/span[@class = 'mlxs fsh-0']\")[i].text\n",
    "            a = {\n",
    "                \"restaurant\" : nom,\n",
    "                \"resume\" : bottom,\n",
    "                \"section\" : x,\n",
    "                \"product\" : product,\n",
    "                \"price\": price\n",
    "            }\n",
    "            data_menu = data_menu.append(a, ignore_index = True)\n",
    "            i +=1\n",
    "    driver.back()\n",
    "    time.sleep(.1)"
   ]
  },
  {
   "cell_type": "code",
   "execution_count": 84,
   "metadata": {},
   "outputs": [],
   "source": [
    "data_menu.to_csv(\"data_menu.csv\", index = False)"
   ]
  },
  {
   "cell_type": "code",
   "execution_count": null,
   "metadata": {},
   "outputs": [],
   "source": [
    "def section_trt(x):\n",
    "    x = x.replace(\"NOS\", \"\")\n",
    "    if \"TACOS\" in x: return 'TACOS'\n",
    "    if \"PIZZA\" in x: return \"PIZZA\"\n",
    "    if \"BURGER\" in x: return \"BURGER\"\n",
    "    if \"SANDWICHS\" in x: return \"SANDWICHS\"\n",
    "    if 'SALADES' in  x: return 'SALADES'\n",
    "    if \"PANINIS\" in x : return \"PANINIS\"\n",
    "    if \"SASHIMI\" in x or \"ROLL\" in x or \"MAKI\" in x: return \"THAI\"\n",
    "    if \"BOISSONS\" in x or 'MOJITOS' in x: return \"BOISSONS\"\n",
    "    if \"ENTR\" in x : return \"ENTREES\"\n",
    "    if \"P\" in x and \"TES\" in x : return \"PATES\"\n",
    "    if \"LES PLUS COMMANDÉS\"in x: return \"TOP\"\n",
    "    return x\n"
   ]
  },
  {
   "cell_type": "code",
   "execution_count": null,
   "metadata": {},
   "outputs": [],
   "source": [
    "data_menu[\"section_trt\"] = data_menu[\"section\"].apply(section_trt)"
   ]
  },
  {
   "cell_type": "code",
   "execution_count": null,
   "metadata": {},
   "outputs": [],
   "source": [
    "np.unique(data_menu[\"section_trt\"].values)"
   ]
  },
  {
   "cell_type": "code",
   "execution_count": null,
   "metadata": {},
   "outputs": [],
   "source": []
  }
 ],
 "metadata": {
  "interpreter": {
   "hash": "1d38f6d59fbeec453bf977305d2d3f901f99d19781ce46f7f6844578bcfa9bfe"
  },
  "kernelspec": {
   "display_name": "Python 3.7.4 32-bit",
   "name": "python3"
  },
  "language_info": {
   "codemirror_mode": {
    "name": "ipython",
    "version": 3
   },
   "file_extension": ".py",
   "mimetype": "text/x-python",
   "name": "python",
   "nbconvert_exporter": "python",
   "pygments_lexer": "ipython3",
   "version": "3.7.4"
  },
  "orig_nbformat": 4
 },
 "nbformat": 4,
 "nbformat_minor": 2
}
